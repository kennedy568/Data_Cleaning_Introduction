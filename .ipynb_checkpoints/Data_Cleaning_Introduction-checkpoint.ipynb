{
 "cells": [
  {
   "cell_type": "markdown",
   "metadata": {
    "id": "_-nl74pjw6Hy"
   },
   "source": [
    "# Python Data Cleaning"
   ]
  },
  {
   "cell_type": "markdown",
   "metadata": {
    "id": "f0LiYra_ZGrf"
   },
   "source": [
    "## 1.0 Importing our Libraries"
   ]
  },
  {
   "cell_type": "code",
   "execution_count": 128,
   "metadata": {
    "id": "UtnqOM71DRhS"
   },
   "outputs": [],
   "source": [
    "# Importing the Pandas Library\n",
    "import pandas as pd\n",
    "\n",
    "# Importing the Numpy Library\n",
    "import numpy as np\n",
    "\n"
   ]
  },
  {
   "cell_type": "code",
   "execution_count": 129,
   "metadata": {},
   "outputs": [
    {
     "data": {
      "text/html": [
       "<div>\n",
       "<style scoped>\n",
       "    .dataframe tbody tr th:only-of-type {\n",
       "        vertical-align: middle;\n",
       "    }\n",
       "\n",
       "    .dataframe tbody tr th {\n",
       "        vertical-align: top;\n",
       "    }\n",
       "\n",
       "    .dataframe thead th {\n",
       "        text-align: right;\n",
       "    }\n",
       "</style>\n",
       "<table border=\"1\" class=\"dataframe\">\n",
       "  <thead>\n",
       "    <tr style=\"text-align: right;\">\n",
       "      <th></th>\n",
       "      <th>Timestamp</th>\n",
       "      <th>product:</th>\n",
       "      <th>Product Parameters</th>\n",
       "      <th>Shop name</th>\n",
       "      <th>Shop type</th>\n",
       "      <th>Respective price</th>\n",
       "      <th>Ram</th>\n",
       "      <th>Hdd size</th>\n",
       "      <th>Screen size</th>\n",
       "    </tr>\n",
       "  </thead>\n",
       "  <tbody>\n",
       "    <tr>\n",
       "      <th>0</th>\n",
       "      <td>2017-09-27 15:30:44.686000</td>\n",
       "      <td>Flash Disk</td>\n",
       "      <td>NaN</td>\n",
       "      <td>Ycd</td>\n",
       "      <td>retail</td>\n",
       "      <td>6788</td>\n",
       "      <td>NaN</td>\n",
       "      <td>8gb</td>\n",
       "      <td>NaN</td>\n",
       "    </tr>\n",
       "    <tr>\n",
       "      <th>1</th>\n",
       "      <td>2017-09-27 15:55:28.424000</td>\n",
       "      <td>Flash disk</td>\n",
       "      <td>NaN</td>\n",
       "      <td>Link electronics</td>\n",
       "      <td>retail</td>\n",
       "      <td>1000</td>\n",
       "      <td>NaN</td>\n",
       "      <td>8gb</td>\n",
       "      <td>NaN</td>\n",
       "    </tr>\n",
       "  </tbody>\n",
       "</table>\n",
       "</div>"
      ],
      "text/plain": [
       "                    Timestamp    product: Product Parameters  \\\n",
       "0  2017-09-27 15:30:44.686000  Flash Disk                NaN   \n",
       "1  2017-09-27 15:55:28.424000  Flash disk                NaN   \n",
       "\n",
       "          Shop name Shop type Respective price  Ram Hdd size  Screen size  \n",
       "0               Ycd    retail             6788  NaN      8gb          NaN  \n",
       "1  Link electronics    retail             1000  NaN      8gb          NaN  "
      ]
     },
     "execution_count": 129,
     "metadata": {},
     "output_type": "execute_result"
    }
   ],
   "source": [
    "df =pd.read_excel('electronics.xlsx')\n",
    "df.head(2)"
   ]
  },
  {
   "cell_type": "markdown",
   "metadata": {
    "id": "zMDkx0IpxCCR"
   },
   "source": [
    "## 1.1 Validity"
   ]
  },
  {
   "cell_type": "code",
   "execution_count": 130,
   "metadata": {
    "colab": {
     "base_uri": "https://localhost:8080/",
     "height": 214
    },
    "id": "oakaQWg_2YtG",
    "outputId": "21fd0bf7-8901-42e6-95d5-6ae1951566e3"
   },
   "outputs": [
    {
     "data": {
      "text/html": [
       "<div>\n",
       "<style scoped>\n",
       "    .dataframe tbody tr th:only-of-type {\n",
       "        vertical-align: middle;\n",
       "    }\n",
       "\n",
       "    .dataframe tbody tr th {\n",
       "        vertical-align: top;\n",
       "    }\n",
       "\n",
       "    .dataframe thead th {\n",
       "        text-align: right;\n",
       "    }\n",
       "</style>\n",
       "<table border=\"1\" class=\"dataframe\">\n",
       "  <thead>\n",
       "    <tr style=\"text-align: right;\">\n",
       "      <th></th>\n",
       "      <th>product:</th>\n",
       "      <th>Product Parameters</th>\n",
       "      <th>Respective price</th>\n",
       "      <th>Ram</th>\n",
       "      <th>Hdd size</th>\n",
       "      <th>Screen size</th>\n",
       "    </tr>\n",
       "  </thead>\n",
       "  <tbody>\n",
       "    <tr>\n",
       "      <th>0</th>\n",
       "      <td>Flash Disk</td>\n",
       "      <td>NaN</td>\n",
       "      <td>6788</td>\n",
       "      <td>NaN</td>\n",
       "      <td>8gb</td>\n",
       "      <td>NaN</td>\n",
       "    </tr>\n",
       "    <tr>\n",
       "      <th>1</th>\n",
       "      <td>Flash disk</td>\n",
       "      <td>NaN</td>\n",
       "      <td>1000</td>\n",
       "      <td>NaN</td>\n",
       "      <td>8gb</td>\n",
       "      <td>NaN</td>\n",
       "    </tr>\n",
       "  </tbody>\n",
       "</table>\n",
       "</div>"
      ],
      "text/plain": [
       "     product: Product Parameters Respective price  Ram Hdd size  Screen size\n",
       "0  Flash Disk                NaN             6788  NaN      8gb          NaN\n",
       "1  Flash disk                NaN             1000  NaN      8gb          NaN"
      ]
     },
     "execution_count": 130,
     "metadata": {},
     "output_type": "execute_result"
    }
   ],
   "source": [
    "# Dropping the irrelevant columns i.e. Timestamp, Shop name and Shop type\t\n",
    "# Irrelevant data are those that are not actually needed, and don’t fit under \n",
    "# the context of the problem we’re trying to solve.\n",
    "to_drop = [\"Timestamp\" , \"Shop name\" , \"Shop type\"]\n",
    "df.drop(to_drop, inplace=True, axis=1)\n",
    "df.head(2)"
   ]
  },
  {
   "cell_type": "markdown",
   "metadata": {
    "id": "vPXKeupMxvT3"
   },
   "source": [
    "## 1.2 Completeness"
   ]
  },
  {
   "cell_type": "markdown",
   "metadata": {
    "id": "n-jiBCEXCS0f"
   },
   "source": [
    "### 1.2.1 How to check missing values\n"
   ]
  },
  {
   "cell_type": "code",
   "execution_count": 131,
   "metadata": {
    "colab": {
     "base_uri": "https://localhost:8080/"
    },
    "id": "qTqkM7qiMZph",
    "outputId": "59d1bfdc-5a73-4947-eb1f-aad48c3fbc94"
   },
   "outputs": [
    {
     "data": {
      "text/plain": [
       "product:              False\n",
       "Product Parameters     True\n",
       "Respective price      False\n",
       "Ram                    True\n",
       "Hdd size               True\n",
       "Screen size            True\n",
       "dtype: bool"
      ]
     },
     "execution_count": 131,
     "metadata": {},
     "output_type": "execute_result"
    }
   ],
   "source": [
    "#Checking/ Counting Missing Values \n",
    "# Checking if there is any missing value across each column\n",
    "df.isnull().any()\n"
   ]
  },
  {
   "cell_type": "code",
   "execution_count": 132,
   "metadata": {
    "colab": {
     "base_uri": "https://localhost:8080/",
     "height": 419
    },
    "id": "7iXFMxXiMXZj",
    "outputId": "3dc7e78b-ab0e-4d0f-cdc2-036e52595a2f"
   },
   "outputs": [
    {
     "data": {
      "text/html": [
       "<div>\n",
       "<style scoped>\n",
       "    .dataframe tbody tr th:only-of-type {\n",
       "        vertical-align: middle;\n",
       "    }\n",
       "\n",
       "    .dataframe tbody tr th {\n",
       "        vertical-align: top;\n",
       "    }\n",
       "\n",
       "    .dataframe thead th {\n",
       "        text-align: right;\n",
       "    }\n",
       "</style>\n",
       "<table border=\"1\" class=\"dataframe\">\n",
       "  <thead>\n",
       "    <tr style=\"text-align: right;\">\n",
       "      <th></th>\n",
       "      <th>product:</th>\n",
       "      <th>Product Parameters</th>\n",
       "      <th>Respective price</th>\n",
       "      <th>Ram</th>\n",
       "      <th>Hdd size</th>\n",
       "      <th>Screen size</th>\n",
       "    </tr>\n",
       "  </thead>\n",
       "  <tbody>\n",
       "    <tr>\n",
       "      <th>0</th>\n",
       "      <td>False</td>\n",
       "      <td>True</td>\n",
       "      <td>False</td>\n",
       "      <td>True</td>\n",
       "      <td>False</td>\n",
       "      <td>True</td>\n",
       "    </tr>\n",
       "    <tr>\n",
       "      <th>1</th>\n",
       "      <td>False</td>\n",
       "      <td>True</td>\n",
       "      <td>False</td>\n",
       "      <td>True</td>\n",
       "      <td>False</td>\n",
       "      <td>True</td>\n",
       "    </tr>\n",
       "    <tr>\n",
       "      <th>2</th>\n",
       "      <td>False</td>\n",
       "      <td>True</td>\n",
       "      <td>False</td>\n",
       "      <td>True</td>\n",
       "      <td>False</td>\n",
       "      <td>True</td>\n",
       "    </tr>\n",
       "    <tr>\n",
       "      <th>3</th>\n",
       "      <td>False</td>\n",
       "      <td>True</td>\n",
       "      <td>False</td>\n",
       "      <td>True</td>\n",
       "      <td>False</td>\n",
       "      <td>True</td>\n",
       "    </tr>\n",
       "    <tr>\n",
       "      <th>4</th>\n",
       "      <td>False</td>\n",
       "      <td>True</td>\n",
       "      <td>False</td>\n",
       "      <td>True</td>\n",
       "      <td>False</td>\n",
       "      <td>True</td>\n",
       "    </tr>\n",
       "    <tr>\n",
       "      <th>...</th>\n",
       "      <td>...</td>\n",
       "      <td>...</td>\n",
       "      <td>...</td>\n",
       "      <td>...</td>\n",
       "      <td>...</td>\n",
       "      <td>...</td>\n",
       "    </tr>\n",
       "    <tr>\n",
       "      <th>62</th>\n",
       "      <td>False</td>\n",
       "      <td>False</td>\n",
       "      <td>False</td>\n",
       "      <td>False</td>\n",
       "      <td>False</td>\n",
       "      <td>False</td>\n",
       "    </tr>\n",
       "    <tr>\n",
       "      <th>63</th>\n",
       "      <td>False</td>\n",
       "      <td>False</td>\n",
       "      <td>False</td>\n",
       "      <td>False</td>\n",
       "      <td>False</td>\n",
       "      <td>False</td>\n",
       "    </tr>\n",
       "    <tr>\n",
       "      <th>64</th>\n",
       "      <td>False</td>\n",
       "      <td>False</td>\n",
       "      <td>False</td>\n",
       "      <td>False</td>\n",
       "      <td>False</td>\n",
       "      <td>True</td>\n",
       "    </tr>\n",
       "    <tr>\n",
       "      <th>65</th>\n",
       "      <td>False</td>\n",
       "      <td>False</td>\n",
       "      <td>False</td>\n",
       "      <td>False</td>\n",
       "      <td>True</td>\n",
       "      <td>True</td>\n",
       "    </tr>\n",
       "    <tr>\n",
       "      <th>66</th>\n",
       "      <td>False</td>\n",
       "      <td>False</td>\n",
       "      <td>False</td>\n",
       "      <td>False</td>\n",
       "      <td>False</td>\n",
       "      <td>True</td>\n",
       "    </tr>\n",
       "  </tbody>\n",
       "</table>\n",
       "<p>67 rows × 6 columns</p>\n",
       "</div>"
      ],
      "text/plain": [
       "    product:  Product Parameters  Respective price    Ram  Hdd size  \\\n",
       "0      False                True             False   True     False   \n",
       "1      False                True             False   True     False   \n",
       "2      False                True             False   True     False   \n",
       "3      False                True             False   True     False   \n",
       "4      False                True             False   True     False   \n",
       "..       ...                 ...               ...    ...       ...   \n",
       "62     False               False             False  False     False   \n",
       "63     False               False             False  False     False   \n",
       "64     False               False             False  False     False   \n",
       "65     False               False             False  False      True   \n",
       "66     False               False             False  False     False   \n",
       "\n",
       "    Screen size  \n",
       "0          True  \n",
       "1          True  \n",
       "2          True  \n",
       "3          True  \n",
       "4          True  \n",
       "..          ...  \n",
       "62        False  \n",
       "63        False  \n",
       "64         True  \n",
       "65         True  \n",
       "66         True  \n",
       "\n",
       "[67 rows x 6 columns]"
      ]
     },
     "execution_count": 132,
     "metadata": {},
     "output_type": "execute_result"
    }
   ],
   "source": [
    "# Checking if there is any missing value in dataframe as a whole\n",
    "df.isnull()"
   ]
  },
  {
   "cell_type": "code",
   "execution_count": 133,
   "metadata": {
    "colab": {
     "base_uri": "https://localhost:8080/"
    },
    "id": "z91EiQscMbwI",
    "outputId": "7b814cd3-f94d-4edd-c9dd-338f1d5c7b1c"
   },
   "outputs": [
    {
     "data": {
      "text/plain": [
       "product:               0\n",
       "Product Parameters    22\n",
       "Respective price       0\n",
       "Ram                   33\n",
       "Hdd size              20\n",
       "Screen size           46\n",
       "dtype: int64"
      ]
     },
     "execution_count": 133,
     "metadata": {},
     "output_type": "execute_result"
    }
   ],
   "source": [
    "# Checking how many missing values there are across each column\n",
    "df.isnull().sum()"
   ]
  },
  {
   "cell_type": "code",
   "execution_count": 134,
   "metadata": {
    "colab": {
     "base_uri": "https://localhost:8080/"
    },
    "id": "OI8vsbmaMeKI",
    "outputId": "b95c98e4-a505-4beb-a13e-2e7b04c0ef18"
   },
   "outputs": [
    {
     "name": "stdout",
     "output_type": "stream",
     "text": [
      "True\n"
     ]
    }
   ],
   "source": [
    "# Or we can do a quick check to see if we have any missing values at all\n",
    "print(df.isnull().values.any())"
   ]
  },
  {
   "cell_type": "markdown",
   "metadata": {
    "id": "ZE_usC9kCCnv"
   },
   "source": [
    "### 1.2.2 How to Handle Missing Values"
   ]
  },
  {
   "cell_type": "code",
   "execution_count": 135,
   "metadata": {
    "colab": {
     "base_uri": "https://localhost:8080/"
    },
    "id": "zGDJy7rYiZOt",
    "outputId": "5f6577b5-e657-4946-c06a-43f2e26ebfc2"
   },
   "outputs": [
    {
     "name": "stdout",
     "output_type": "stream",
     "text": [
      "   product:    Product Parameters Respective price  Ram Hdd size  Screen size\n",
      "34   Laptop                Lenovo            26999    2      500         15.6\n",
      "35   Laptop            Asus t100t            42500    2       64         10.1\n",
      "36   Laptop                 Asuss            25500    2       32         11.6\n",
      "37   Laptop                  Asus            25500    2       32         11.6\n",
      "38   Laptop   Lenovo ideapad mini            26000    2       32         11.6\n",
      "39   Laptop                    Hp            35500    4      500         15.6\n",
      "40   Laptop                    Hp            19000    2      320         15.0\n",
      "41   Laptop                    Hp            24000    2      500         15.0\n",
      "42   Laptop               Lg atom            20000    4      320         14.0\n",
      "43   Laptop           Hp notebook            45000    4      500         15.0\n",
      "44   Laptop                  Asus            28000    4      500         15.6\n",
      "45   Laptop         Hp folio 9470            35000    4      500         15.6\n",
      "46   Laptop  lenovo think pad t60            12000    2       80         14.0\n",
      "47   Laptop       Lenovo Idea pad            11000    2      160         15.6\n",
      "48   Laptop     HP elitebook 2540            21000  4GB      500         14.0\n",
      "49   Laptop          hp i7 laptop            20000    4      320         14.0\n",
      "50   Laptop    Dell inspiron 5137            33000    4      500         15.0\n",
      "51   Laptop               Toshiba            17500    2      320         14.0\n",
      "61   Laptop       Lenovo Idea pad            11000    2      160         15.6\n",
      "62   Laptop     HP elitebook 2540            21000  4GB      500         14.0\n",
      "63   Laptop          hp i7 laptop            20000    4      320         14.0\n"
     ]
    }
   ],
   "source": [
    "\n",
    "# Dropping Missing Values \n",
    "# If there are only a few null values and you know that deleting values \n",
    "# will not cause adverse effects on your result, \n",
    "# remove them from your DataFrame and store that in a new DataFrame\n",
    "# Droppping all \n",
    "clean_df = df.dropna()\n",
    "print(clean_df)"
   ]
  },
  {
   "cell_type": "code",
   "execution_count": 136,
   "metadata": {
    "colab": {
     "base_uri": "https://localhost:8080/"
    },
    "id": "7mTrgAmNMtoY",
    "outputId": "bb4bd325-762a-4672-dd2e-029ddd83a783"
   },
   "outputs": [
    {
     "name": "stdout",
     "output_type": "stream",
     "text": [
      "product:              0\n",
      "Product Parameters    0\n",
      "Respective price      0\n",
      "Ram                   0\n",
      "Hdd size              0\n",
      "Screen size           0\n",
      "dtype: int64\n"
     ]
    }
   ],
   "source": [
    "# Verifying that you no longer have any null values by running \n",
    "print(clean_df.isnull().sum())"
   ]
  },
  {
   "cell_type": "code",
   "execution_count": 137,
   "metadata": {
    "colab": {
     "base_uri": "https://localhost:8080/"
    },
    "id": "Vg0NXacDkkb3",
    "outputId": "e65ca52c-d951-4a3a-cfee-cb6547898d92"
   },
   "outputs": [],
   "source": [
    "# Dropping all rows that have all NA values\n",
    "df1 = df.dropna(how=\"all\")\n",
    "df1.head(58)\n",
    "df =df1"
   ]
  },
  {
   "cell_type": "code",
   "execution_count": 138,
   "metadata": {
    "colab": {
     "base_uri": "https://localhost:8080/"
    },
    "id": "pUI9_9GRJzYa",
    "outputId": "b3217a99-9b27-45f9-e0ba-87ed7ceebad6"
   },
   "outputs": [
    {
     "name": "stdout",
     "output_type": "stream",
     "text": [
      "      product: Product Parameters Respective price  Ram Hdd size  Screen size\n",
      "0   Flash Disk                NaN             6788  NaN      8gb          NaN\n",
      "1   Flash disk                NaN             1000  NaN      8gb          NaN\n",
      "2        Flash                NaN             1000  NaN      8gb          NaN\n",
      "3        Flash                NaN             1000  NaN      8GB          NaN\n",
      "4        Flash                NaN              800  NaN      8gb          NaN\n",
      "..         ...                ...              ...  ...      ...          ...\n",
      "62      Laptop  HP elitebook 2540            21000  4GB      500         14.0\n",
      "63      Laptop       hp i7 laptop            20000    4      320         14.0\n",
      "64      Laptop               Asus           125000    4      500          NaN\n",
      "65      Laptop               R450                2    2      NaN          NaN\n",
      "66      Laptop     Lenovo ideapad              100    2      500          NaN\n",
      "\n",
      "[67 rows x 6 columns]\n"
     ]
    }
   ],
   "source": [
    "# We can also put a limitation on how many non-null values need to be in a row \n",
    "# we can retain the data that has at least 2 non-null values as shown below\n",
    "# Uncomment the 2 lines below after running the previous lines\n",
    "df2 = df.dropna(thresh=2)\n",
    "print(df2)"
   ]
  },
  {
   "cell_type": "code",
   "execution_count": 139,
   "metadata": {
    "colab": {
     "base_uri": "https://localhost:8080/",
     "height": 231
    },
    "id": "UHD7y5ti10Am",
    "outputId": "d1be4422-1625-471a-bf18-4a139b86cea5"
   },
   "outputs": [
    {
     "ename": "NameError",
     "evalue": "name 'subjects_df_mean' is not defined",
     "output_type": "error",
     "traceback": [
      "\u001b[1;31m---------------------------------------------------------------------------\u001b[0m",
      "\u001b[1;31mNameError\u001b[0m                                 Traceback (most recent call last)",
      "\u001b[1;32m<ipython-input-139-3572f0c7c0c5>\u001b[0m in \u001b[0;36m<module>\u001b[1;34m\u001b[0m\n\u001b[0;32m      5\u001b[0m \u001b[1;33m\u001b[0m\u001b[0m\n\u001b[0;32m      6\u001b[0m \u001b[1;31m# imputing the mean\u001b[0m\u001b[1;33m\u001b[0m\u001b[1;33m\u001b[0m\u001b[1;33m\u001b[0m\u001b[0m\n\u001b[1;32m----> 7\u001b[1;33m \u001b[0msubjects_df_mean\u001b[0m\u001b[1;33m[\u001b[0m\u001b[1;34m'Score'\u001b[0m\u001b[1;33m]\u001b[0m \u001b[1;33m=\u001b[0m \u001b[0msubjects_df_mean\u001b[0m\u001b[1;33m[\u001b[0m\u001b[1;34m'Score'\u001b[0m\u001b[1;33m]\u001b[0m\u001b[1;33m.\u001b[0m\u001b[0mfillna\u001b[0m\u001b[1;33m(\u001b[0m\u001b[1;33m(\u001b[0m\u001b[0msubjects_df_mean\u001b[0m\u001b[1;33m[\u001b[0m\u001b[1;34m'Score'\u001b[0m\u001b[1;33m]\u001b[0m\u001b[1;33m.\u001b[0m\u001b[0mmean\u001b[0m\u001b[1;33m(\u001b[0m\u001b[1;33m)\u001b[0m\u001b[1;33m)\u001b[0m\u001b[1;33m)\u001b[0m\u001b[1;33m\u001b[0m\u001b[1;33m\u001b[0m\u001b[0m\n\u001b[0m\u001b[0;32m      8\u001b[0m \u001b[1;33m\u001b[0m\u001b[0m\n\u001b[0;32m      9\u001b[0m \u001b[1;31m# printing out our updated dataframe\u001b[0m\u001b[1;33m\u001b[0m\u001b[1;33m\u001b[0m\u001b[1;33m\u001b[0m\u001b[0m\n",
      "\u001b[1;31mNameError\u001b[0m: name 'subjects_df_mean' is not defined"
     ]
    }
   ],
   "source": [
    "# IMPUTING Missing Values\n",
    "# Imputing the attribute mean for all missing values\n",
    "# Mean imputation replaces missing values with the mean value of that feature/variable. \n",
    "\n",
    "\n",
    "# imputing the mean \n",
    "subjects_df_mean['Score'] = subjects_df_mean['Score'].fillna((subjects_df_mean['Score'].mean()))\n",
    "\n",
    "# printing out our updated dataframe\n",
    "print(subjects_df_mean) \n"
   ]
  },
  {
   "cell_type": "code",
   "execution_count": null,
   "metadata": {
    "id": "h4DAeSbM2RZZ"
   },
   "outputs": [],
   "source": []
  },
  {
   "cell_type": "markdown",
   "metadata": {
    "id": "Wus-RyPhx2k2"
   },
   "source": [
    "## 1.3 Consistency"
   ]
  },
  {
   "cell_type": "code",
   "execution_count": null,
   "metadata": {
    "id": "7zotuPmTeY1T"
   },
   "outputs": [],
   "source": [
    "df.shape"
   ]
  },
  {
   "cell_type": "code",
   "execution_count": null,
   "metadata": {
    "id": "EhBEUGcTx78K"
   },
   "outputs": [],
   "source": [
    "# Example 1: Duplicates\n",
    "# Duplicates are data points that are repeated in your dataset. \n",
    "# These should be simply removed.\n",
    "df.duplicated().sum()\n",
    "\n"
   ]
  },
  {
   "cell_type": "code",
   "execution_count": null,
   "metadata": {
    "id": "K67DvKyOcAFT"
   },
   "outputs": [],
   "source": [
    "df.loc[df.duplicated(keep=False), : ]"
   ]
  },
  {
   "cell_type": "code",
   "execution_count": null,
   "metadata": {
    "id": "f-dm1qjp5o2u"
   },
   "outputs": [],
   "source": [
    "#Dropping duplicated rows\n",
    "df.drop_duplicates(keep=\"first\").shape\n",
    "\n"
   ]
  },
  {
   "cell_type": "markdown",
   "metadata": {
    "id": "o59W2bFhx_8k"
   },
   "source": [
    "## 1.4  Uniformity"
   ]
  },
  {
   "cell_type": "code",
   "execution_count": null,
   "metadata": {
    "id": "gxa1vnAD2YBe"
   },
   "outputs": [],
   "source": [
    "df.head(4)"
   ]
  },
  {
   "cell_type": "code",
   "execution_count": 140,
   "metadata": {},
   "outputs": [],
   "source": [
    "df = df.rename(columns={'product:':'Product', 'product_parameters' : 'Product_Parameters', 'respective_price' : 'Respective_Price', 'ram': 'Ram','hdd_size': 'Hdd_Size', 'screen_size' : 'Screen_Size'}) "
   ]
  },
  {
   "cell_type": "markdown",
   "metadata": {},
   "source": []
  },
  {
   "cell_type": "code",
   "execution_count": null,
   "metadata": {
    "colab": {
     "base_uri": "https://localhost:8080/",
     "height": 231
    },
    "id": "EnpBH69HTLWe",
    "outputId": "9382a201-7815-4f1b-cbb1-bed19abfd176"
   },
   "outputs": [],
   "source": [
    "#Standardization - Fixing messy column names\n",
    "# We can rename multiple  data frame column names in the following manner\n",
    "df = df.rename(columns = {'product:':'Product', 'product_parameters' : 'Product_Parameters', 'respective_price' : 'Respective_Price', 'ram': 'Ram','hdd_size': 'Hdd_Size', 'screen_size' : 'Screen_Size'})\n"
   ]
  },
  {
   "cell_type": "code",
   "execution_count": null,
   "metadata": {},
   "outputs": [],
   "source": [
    "df.head(58)"
   ]
  },
  {
   "cell_type": "code",
   "execution_count": null,
   "metadata": {},
   "outputs": [],
   "source": [
    "df[]"
   ]
  },
  {
   "cell_type": "code",
   "execution_count": null,
   "metadata": {
    "id": "_wOLNaUFUy72"
   },
   "outputs": [],
   "source": [
    "#df.columns = df.columns.str.strip().str.lower().str.replace(' ', '_'),str.replace(' : ', ' ')\n",
    "#df.columns"
   ]
  },
  {
   "cell_type": "code",
   "execution_count": null,
   "metadata": {
    "id": "EsthTLs1CFjq"
   },
   "outputs": [],
   "source": [
    "#for i in  df['Hdd size']:\n",
    "#print(i)"
   ]
  },
  {
   "cell_type": "markdown",
   "metadata": {
    "id": "4O8DBDTRJPdz"
   },
   "source": [
    "## 1.5 Accuracy"
   ]
  },
  {
   "cell_type": "code",
   "execution_count": null,
   "metadata": {
    "id": "wEw7GOrSJbwi"
   },
   "outputs": [],
   "source": [
    "#In-record & cross-datasets errors \n",
    "# drop row 56 since since there was an error during data entry\n",
    "df = df.drop([df.index[52]])\n",
    "df.tail(60)\n"
   ]
  },
  {
   "cell_type": "code",
   "execution_count": null,
   "metadata": {},
   "outputs": [],
   "source": []
  },
  {
   "cell_type": "code",
   "execution_count": null,
   "metadata": {},
   "outputs": [],
   "source": []
  }
 ],
 "metadata": {
  "colab": {
   "collapsed_sections": [
    "f0LiYra_ZGrf",
    "zMDkx0IpxCCR",
    "Y7Dgv6QeG-tw",
    "zxpZyP9yxlzl",
    "PQ8DPOj4HGtQ",
    "vPXKeupMxvT3",
    "KSSnxqGcH4pc",
    "Wus-RyPhx2k2",
    "vvxGZOoWXnmy",
    "o59W2bFhx_8k",
    "1FQHRHC_QMJu"
   ],
   "name": "Data Cleaning Introduction",
   "provenance": [],
   "toc_visible": true
  },
  "kernelspec": {
   "display_name": "Python 3",
   "language": "python",
   "name": "python3"
  },
  "language_info": {
   "codemirror_mode": {
    "name": "ipython",
    "version": 3
   },
   "file_extension": ".py",
   "mimetype": "text/x-python",
   "name": "python",
   "nbconvert_exporter": "python",
   "pygments_lexer": "ipython3",
   "version": "3.8.5"
  }
 },
 "nbformat": 4,
 "nbformat_minor": 1
}
